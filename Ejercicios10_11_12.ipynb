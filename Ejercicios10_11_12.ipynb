{
  "nbformat": 4,
  "nbformat_minor": 0,
  "metadata": {
    "colab": {
      "provenance": []
    },
    "kernelspec": {
      "name": "python3",
      "display_name": "Python 3"
    },
    "language_info": {
      "name": "python"
    }
  },
  "cells": [
    {
      "cell_type": "markdown",
      "source": [
        "10.\n",
        "Desarrollar un programa en Python, que solicite desde el teclado la longitud\n",
        "de una lista, que contendra unicamente elementos de tipo entero.\n",
        "De acuerdo a la longitud indicada, solicitar nuevamente desde el teclado, cada\n",
        "uno de los elementos que contendra la lista, e irlos introduciendo elemento a\n",
        "elemento dentro de la lista.\n",
        "Finalmente, mostrar en pantalla, la lista con los elementos que se solicitaron\n",
        "desde el teclado, y a su vez, la suma de todos los elementos que componen a\n",
        "la lista."
      ],
      "metadata": {
        "id": "g_fLVRsKUjPJ"
      }
    },
    {
      "cell_type": "code",
      "source": [
        "longitud = int(input(\"Ingresa la longitud de la lista: \"))\n",
        "\n",
        "lista = []\n",
        "\n",
        "for i in range(longitud):\n",
        "    elemento = int(input(f\"Ingresa el elemento {i + 1}: \"))\n",
        "    lista.append(elemento)\n",
        "\n",
        "suma = sum(lista)\n",
        "\n",
        "print(\"Lista:\", lista)\n",
        "print(\"Suma de los elementos:\", suma)"
      ],
      "metadata": {
        "colab": {
          "base_uri": "https://localhost:8080/"
        },
        "id": "7-GsPAX6UzoQ",
        "outputId": "27c2c102-dce8-4757-9fdf-fb21ee44ba0b"
      },
      "execution_count": 1,
      "outputs": [
        {
          "output_type": "stream",
          "name": "stdout",
          "text": [
            "Ingresa la longitud de la lista: 3\n",
            "Ingresa el elemento 1: 8\n",
            "Ingresa el elemento 2: 5\n",
            "Ingresa el elemento 3: 6\n",
            "Lista: [8, 5, 6]\n",
            "Suma de los elementos: 19\n"
          ]
        }
      ]
    },
    {
      "cell_type": "markdown",
      "source": [
        "11. Desarrollar un programa en Python, que, dada la siguiente lista:\n",
        "Lista = [ “A”, “B”, “b”, “c”, “E”, “E”, “f”]\n",
        "Le solicite al usuario introducir desde el teclado el elemento que desea eliminar.\n",
        "De esta manera, el programa debera eliminar dicho elemento, tomando en\n",
        "cuenta, que el elemento puede estar contenido en la lista mas de una vez.\n",
        "Ademas, el programa debera eliminar el elemento, sin importar que el usuario\n",
        "introduzca su eleccion en mayusculas o minusculas."
      ],
      "metadata": {
        "id": "0QUdy_1iU-sZ"
      }
    },
    {
      "cell_type": "code",
      "source": [
        "lista = [\"A\", \"B\", \"b\", \"c\", \"E\", \"E\", \"f\"]\n",
        "print(lista)\n",
        "\n",
        "elemento_a_eliminar = input(\"Ingresa el elemento que deseas eliminar: \").lower()\n",
        "\n",
        "nueva_lista = [elemento for elemento in lista if elemento.lower() != elemento_a_eliminar]\n",
        "\n",
        "if nueva_lista != lista:\n",
        "    print(f\"Elemento(s) '{elemento_a_eliminar}' eliminado(s) de la lista.\")\n",
        "    print(\"Nueva lista:\", nueva_lista)\n",
        "else:\n",
        "    print(f\"El elemento '{elemento_a_eliminar}' no se encuentra en la lista.\")"
      ],
      "metadata": {
        "colab": {
          "base_uri": "https://localhost:8080/"
        },
        "id": "RSrfhfqrVOSq",
        "outputId": "76c1e4e2-2815-4bee-fe6f-23ddbb4a52e1"
      },
      "execution_count": 4,
      "outputs": [
        {
          "output_type": "stream",
          "name": "stdout",
          "text": [
            "['A', 'B', 'b', 'c', 'E', 'E', 'f']\n",
            "Ingresa el elemento que deseas eliminar: E\n",
            "Elemento(s) 'e' eliminado(s) de la lista.\n",
            "Nueva lista: ['A', 'B', 'b', 'c', 'f']\n"
          ]
        }
      ]
    },
    {
      "cell_type": "markdown",
      "source": [
        "12. Desarrollar un programa en Python, que, dada la siguiente lista:\n",
        "numeros = [ 1, 2, 3, 4, 5]\n",
        "Elimine el primer y ´ultimo elemento de la lista, tomando en cuenta que se\n",
        "desconocen los elementos que componen a nuestra lista.\n",
        "Posteriormente, el programa deber´a mostrar por pantalla dos listas, la primea\n",
        "lista, ser´a la que contiene los elementos que no fueron eliminados, y la segunda\n",
        "lista, deber´a contener los elementos que fueron eliminados."
      ],
      "metadata": {
        "id": "EZ1FYj0cVrAf"
      }
    },
    {
      "cell_type": "code",
      "source": [
        "lista = [1, 2, 3, 4, 5]\n",
        "\n",
        "elemento_primero = lista.pop(0)\n",
        "elemento_ultimo = lista.pop()\n",
        "\n",
        "elementos_no_eliminados = lista\n",
        "\n",
        "elementos_eliminados = [elemento_primero, elemento_ultimo]\n",
        "\n",
        "# Mostrar ambas listas\n",
        "print(\"Elementos no eliminados:\", elementos_no_eliminados)\n",
        "print(\"Elementos eliminados:\", elementos_eliminados)"
      ],
      "metadata": {
        "colab": {
          "base_uri": "https://localhost:8080/"
        },
        "id": "T9OfKnvUVux_",
        "outputId": "2cbb4319-d467-4c5d-9a78-9a767ea21a88"
      },
      "execution_count": 5,
      "outputs": [
        {
          "output_type": "stream",
          "name": "stdout",
          "text": [
            "Elementos no eliminados: [2, 3, 4]\n",
            "Elementos eliminados: [1, 5]\n"
          ]
        }
      ]
    }
  ]
}