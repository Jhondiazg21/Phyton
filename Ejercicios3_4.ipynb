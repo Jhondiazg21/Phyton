{
  "nbformat": 4,
  "nbformat_minor": 0,
  "metadata": {
    "colab": {
      "provenance": []
    },
    "kernelspec": {
      "name": "python3",
      "display_name": "Python 3"
    },
    "language_info": {
      "name": "python"
    }
  },
  "cells": [
    {
      "cell_type": "markdown",
      "source": [
        "Enunciado\n",
        "Desarrollar un programa que solicite tres n´umeros enteros desde el teclado\n",
        "al usuario, posteriormente, el programa deber´a determinar e indicar a trav´es\n",
        "de un mensaje en pantalla, cu´al de los tres n´umeros es el m´as grande.\n",
        "Requerimientos indispensables:\n",
        "El mensaje en pantalla deber´a mostrar el n´umero que result´o ser el m´as\n",
        "grande de los tres n´umeros, por ejemplo:\n",
        "1. - “El n´umero 10 es el m´as grande de los tres”"
      ],
      "metadata": {
        "id": "uoLijc8yYE39"
      }
    },
    {
      "cell_type": "code",
      "source": [
        "\n",
        "x = int(input(\"Ingrese el primer numero: \"))\n",
        "y = int(input(\"Ingrese el segundo numero: \"))\n",
        "z = int(input(\"Ingrese el tercer numero: \"))\n",
        "\n",
        "if x > y and x > z:\n",
        "  print(\"El numero\",x,\"es el mas grande\")\n",
        "elif y > x and y > z:\n",
        "  print(\"El numero\",y,\"es el mas grande\")\n",
        "else:\n",
        "  print(\"El numero\",z,\"es el mas grande\")"
      ],
      "metadata": {
        "id": "G_bS4AOOYKuY",
        "colab": {
          "base_uri": "https://localhost:8080/"
        },
        "outputId": "38ed43b1-1068-4184-80eb-5f1f96889a89"
      },
      "execution_count": 9,
      "outputs": [
        {
          "output_type": "stream",
          "name": "stdout",
          "text": [
            "Ingrese el primer numero: 8\n",
            "Ingrese el segundo numero: 9\n",
            "Ingrese el tercer numero: 11\n",
            "El numero 11 es el mas grande\n"
          ]
        }
      ]
    },
    {
      "cell_type": "code",
      "source": [
        "x = int(input(\"Ingrese el primer numero: \"))\n",
        "y = int(input(\"Ingrese el segundo numero: \"))\n",
        "z = int(input(\"Ingrese el tercer numero: \"))\n",
        "\n",
        "lista = []\n",
        "lista.append(x)\n",
        "lista.append(y)\n",
        "lista.append(z)\n",
        "print(max(lista))"
      ],
      "metadata": {
        "colab": {
          "base_uri": "https://localhost:8080/"
        },
        "id": "ojFgN2mnre74",
        "outputId": "97da6e4d-a663-4925-895b-dc15f9ba7c3a"
      },
      "execution_count": 14,
      "outputs": [
        {
          "output_type": "stream",
          "name": "stdout",
          "text": [
            "Ingrese el primer numero: 10\n",
            "Ingrese el segundo numero: 20\n",
            "Ingrese el tercer numero: 30\n",
            "30\n"
          ]
        }
      ]
    },
    {
      "cell_type": "markdown",
      "source": [
        "Enunciado\n",
        "Desarrollar una calculadora con las siguientes caracter´ısticas:\n",
        "1. La calculadora deber´a ser capaz de calcular las operaciones de suma,\n",
        "resta, multiplicaci´on, divisi´on, divisi´on entera, exponente y m´odulo o\n",
        "resto.\n",
        "2. La calculadora deber´a tener un men´u de opciones donde el usuario\n",
        "pueda elegir cual es la operaci´on que desea ejecutar.\n",
        "3. La calculadora deber´a solicitar ´unicamente dos valores por cada\n",
        "operaci´on.\n",
        "Requerimientos indispensables:\n",
        "El c´odigo de este programa deber´a funcionar con una ´unica variable que se\n",
        "llamar´a n´umero, es decir, no se permite la implementaci´on de otra variable.\n"
      ],
      "metadata": {
        "id": "iKOWSq58c7Oa"
      }
    },
    {
      "cell_type": "code",
      "source": [
        "def mostrar_menu(opciones):\n",
        "    print('Seleccione una opción:')\n",
        "    for clave in sorted(opciones):\n",
        "        print(f' {clave}) {opciones[clave][0]}')\n",
        "\n",
        "\n",
        "def leer_opcion(opciones):\n",
        "    while (a := input('Opción: ')) not in opciones:\n",
        "        print('Opción incorrecta, vuelva a intentarlo.')\n",
        "    return a\n",
        "\n",
        "\n",
        "def ejecutar_opcion(opcion, opciones):\n",
        "    opciones[opcion][1]()\n",
        "\n",
        "\n",
        "def generar_menu(opciones, opcion_salida):\n",
        "    opcion = None\n",
        "    while opcion != opcion_salida:\n",
        "        mostrar_menu(opciones)\n",
        "        opcion = leer_opcion(opciones)\n",
        "        ejecutar_opcion(opcion, opciones)\n",
        "        print()\n",
        "\n",
        "\n",
        "def menu_principal():\n",
        "    opciones = {\n",
        "        '1': ('Suma', suma),\n",
        "        '2': ('Resta', resta),\n",
        "        '3': ('Multiplicacion', multiplicacion),\n",
        "        '4': ('Division', division),\n",
        "        '5': ('Division_entera', division_entera),\n",
        "        '6': ('Exponente', exponente),\n",
        "        '7': ('Modulo', modulo),\n",
        "        '8': ('Salir', salir)\n",
        "    }\n",
        "\n",
        "    generar_menu(opciones, '8')\n",
        "\n",
        "\n",
        "def suma():\n",
        "    print('Has elegido Suma')\n",
        "    valores =  []\n",
        "    numero = float(input(\"Ingrese el primer numero: \"))\n",
        "    valores.append(numero)\n",
        "    numero = float(input(\"Ingrese el segundo numero: \"))\n",
        "    valores.append(numero)\n",
        "    resultado = valores[0]+valores[1]\n",
        "    print(valores[0],\"+\",valores[1],\"=\",resultado)\n",
        "\n",
        "def resta():\n",
        "    print('Has elegido Resta')\n",
        "    valores =  []\n",
        "    numero = float(input(\"Ingrese el primer numero: \"))\n",
        "    valores.append(numero)\n",
        "    numero = float(input(\"Ingrese el segundo numero: \"))\n",
        "    valores.append(numero)\n",
        "    resultado = valores[0]-valores[1]\n",
        "    print(valores[0],\"-\",valores[1],\"=\",resultado)\n",
        "\n",
        "def multiplicacion():\n",
        "    print('Has elegido Multiplicacion')\n",
        "    valores =  []\n",
        "    numero = float(input(\"Ingrese el primer numero: \"))\n",
        "    valores.append(numero)\n",
        "    numero = float(input(\"Ingrese el segundo numero: \"))\n",
        "    valores.append(numero)\n",
        "    resultado = valores[0]*valores[1]\n",
        "    print(valores[0],\"x\",valores[1],\"=\",resultado)\n",
        "\n",
        "def division():\n",
        "    print('Has elegido Division')\n",
        "    valores =  []\n",
        "    numero = float(input(\"Ingrese el primer numero: \"))\n",
        "    valores.append(numero)\n",
        "    numero = float(input(\"Ingrese el segundo numero: \"))\n",
        "    valores.append(numero)\n",
        "    if valores[1] == 0:\n",
        "      print(\"SyntaxError(El divisor no puede ser 0)\")\n",
        "    else:\n",
        "      resultado = valores[0]/valores[1]\n",
        "    print(valores[0],\"/\",valores[1],\"=\",resultado)\n",
        "\n",
        "def division_entera():\n",
        "    print('Has elegido Division entera')\n",
        "    valores =  []\n",
        "    numero = float(input(\"Ingrese el primer numero: \"))\n",
        "    valores.append(numero)\n",
        "    numero = float(input(\"Ingrese el segundo numero: \"))\n",
        "    valores.append(numero)\n",
        "    if valores[1] == 0:\n",
        "      print(\"SyntaxError(El divisor no puede ser 0)\")\n",
        "    else:\n",
        "      resultado = resultado = valores[0]//valores[1]\n",
        "      print(\"Division entera de: \",valores[0],\"/\",valores[1],\"=\",resultado)\n",
        "\n",
        "def exponente():\n",
        "    print('Has elegido Exponente')\n",
        "    valores =  []\n",
        "    numero = float(input(\"Ingrese el primer numero: \"))\n",
        "    valores.append(numero)\n",
        "    numero = float(input(\"Ingrese el segundo numero: \"))\n",
        "    valores.append(numero)\n",
        "    resultado = valores[0]**valores[1]\n",
        "    print(valores[0],\"^\",valores[1],\"=\",resultado)\n",
        "\n",
        "def modulo():\n",
        "    valores =  []\n",
        "    numero = float(input(\"Ingrese el primer numero: \"))\n",
        "    valores.append(numero)\n",
        "    numero = float(input(\"Ingrese el segundo numero: \"))\n",
        "    valores.append(numero)\n",
        "    if valores[1] == 0:\n",
        "      print(\"SyntaxError(El divisor no puede ser 0)\")\n",
        "    else:\n",
        "      resultado = resultado = valores[0]//valores[1]\n",
        "      print(\"Modulo\",valores[0], \"de\",valores[1],\"=\",resultado)\n",
        "\n",
        "def salir():\n",
        "    print('Saliendo')"
      ],
      "metadata": {
        "colab": {
          "base_uri": "https://localhost:8080/"
        },
        "id": "_F2S8BFWdAjx",
        "outputId": "916207bd-0333-4c41-9b04-b2f6d64579a3"
      },
      "execution_count": 19,
      "outputs": [
        {
          "output_type": "stream",
          "name": "stdout",
          "text": [
            "Seleccione una opción:\n",
            " 1) Suma\n",
            " 2) Resta\n",
            " 3) Multiplicacion\n",
            " 4) Division\n",
            " 5) Division_entera\n",
            " 6) Exponente\n",
            " 7) Modulo\n",
            " 8) Salir\n",
            "Opción: 6\n",
            "Has elegido Exponente\n",
            "Ingrese el primer numero: 3\n",
            "Ingrese el segundo numero: 3\n",
            "3.0 ^ 3.0 = 27.0\n",
            "\n",
            "Seleccione una opción:\n",
            " 1) Suma\n",
            " 2) Resta\n",
            " 3) Multiplicacion\n",
            " 4) Division\n",
            " 5) Division_entera\n",
            " 6) Exponente\n",
            " 7) Modulo\n",
            " 8) Salir\n",
            "Opción: 8\n",
            "Saliendo\n",
            "\n"
          ]
        }
      ]
    },
    {
      "cell_type": "code",
      "source": [],
      "metadata": {
        "id": "ASFipUqEw3Ig"
      },
      "execution_count": null,
      "outputs": []
    }
  ]
}