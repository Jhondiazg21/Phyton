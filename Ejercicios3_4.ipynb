{
  "nbformat": 4,
  "nbformat_minor": 0,
  "metadata": {
    "colab": {
      "provenance": []
    },
    "kernelspec": {
      "name": "python3",
      "display_name": "Python 3"
    },
    "language_info": {
      "name": "python"
    }
  },
  "cells": [
    {
      "cell_type": "markdown",
      "source": [
        "Enunciado\n",
        "Desarrollar un programa que solicite tres n´umeros enteros desde el teclado\n",
        "al usuario, posteriormente, el programa deber´a determinar e indicar a trav´es\n",
        "de un mensaje en pantalla, cu´al de los tres n´umeros es el m´as grande.\n",
        "Requerimientos indispensables:\n",
        "El mensaje en pantalla deber´a mostrar el n´umero que result´o ser el m´as\n",
        "grande de los tres n´umeros, por ejemplo:\n",
        "1. - “El n´umero 10 es el m´as grande de los tres”"
      ],
      "metadata": {
        "id": "uoLijc8yYE39"
      }
    },
    {
      "cell_type": "code",
      "source": [
        "\n",
        "x = int(input(\"Ingrese el primer numero: \"))\n",
        "y = int(input(\"Ingrese el segundo numero: \"))\n",
        "z = int(input(\"Ingrese el tercer numero: \"))\n",
        "\n",
        "if x > y and x > z:\n",
        "  print(\"El numero\",x,\"es el mas grande\")\n",
        "elif y > x and y > z:\n",
        "  print(\"El numero\",y,\"es el mas grande\")\n",
        "else:\n",
        "  print(\"El numero\",z,\"es el mas grande\")"
      ],
      "metadata": {
        "id": "G_bS4AOOYKuY",
        "colab": {
          "base_uri": "https://localhost:8080/"
        },
        "outputId": "38ed43b1-1068-4184-80eb-5f1f96889a89"
      },
      "execution_count": 9,
      "outputs": [
        {
          "output_type": "stream",
          "name": "stdout",
          "text": [
            "Ingrese el primer numero: 8\n",
            "Ingrese el segundo numero: 9\n",
            "Ingrese el tercer numero: 11\n",
            "El numero 11 es el mas grande\n"
          ]
        }
      ]
    },
    {
      "cell_type": "markdown",
      "source": [
        "Enunciado\n",
        "Desarrollar una calculadora con las siguientes caracter´ısticas:\n",
        "1. La calculadora deber´a ser capaz de calcular las operaciones de suma,\n",
        "resta, multiplicaci´on, divisi´on, divisi´on entera, exponente y m´odulo o\n",
        "resto.\n",
        "2. La calculadora deber´a tener un men´u de opciones donde el usuario\n",
        "pueda elegir cual es la operaci´on que desea ejecutar.\n",
        "3. La calculadora deber´a solicitar ´unicamente dos valores por cada\n",
        "operaci´on.\n",
        "Requerimientos indispensables:\n",
        "El c´odigo de este programa deber´a funcionar con una ´unica variable que se\n",
        "llamar´a n´umero, es decir, no se permite la implementaci´on de otra variable.\n"
      ],
      "metadata": {
        "id": "iKOWSq58c7Oa"
      }
    },
    {
      "cell_type": "code",
      "source": [
        "def mostrar_menu(opciones):\n",
        "    print('Seleccione una opción:')\n",
        "    for clave in sorted(opciones):\n",
        "        print(f' {clave}) {opciones[clave][0]}')\n",
        "\n",
        "\n",
        "def leer_opcion(opciones):\n",
        "    while (a := input('Opción: ')) not in opciones:\n",
        "        print('Opción incorrecta, vuelva a intentarlo.')\n",
        "    return a\n",
        "\n",
        "\n",
        "def ejecutar_opcion(opcion, opciones):\n",
        "    opciones[opcion][1]()\n",
        "\n",
        "\n",
        "def generar_menu(opciones, opcion_salida):\n",
        "    opcion = None\n",
        "    while opcion != opcion_salida:\n",
        "        mostrar_menu(opciones)\n",
        "        opcion = leer_opcion(opciones)\n",
        "        ejecutar_opcion(opcion, opciones)\n",
        "        print()\n",
        "\n",
        "\n",
        "def menu_principal():\n",
        "    opciones = {\n",
        "        '1': ('Suma', suma),\n",
        "        '2': ('Resta', resta),\n",
        "        '3': ('Multiplicacion', multiplicacion),\n",
        "        '4': ('Division', division),\n",
        "        '5': ('Division_entera', division_entera),\n",
        "        '6': ('Exponente', exponente),\n",
        "        '7': ('Modulo', modulo),\n",
        "        '8': ('Salir', salir)\n",
        "    }\n",
        "\n",
        "    generar_menu(opciones, '8')\n",
        "\n",
        "\n",
        "def suma():\n",
        "    print('Has elegido Suma')\n",
        "    x = float(input(\"Ingrese el primer numero: \"))\n",
        "    y = float(input(\"Ingrese el segundo numero: \"))\n",
        "    resultado = x+y\n",
        "    print(x,\"+\",y,\"=\",resultado)\n",
        "\n",
        "def resta():\n",
        "    print('Has elegido Resta')\n",
        "    x = float(input(\"Ingrese el primer numero: \"))\n",
        "    y = float(input(\"Ingrese el segundo numero: \"))\n",
        "    resultado = x-y\n",
        "    print(x,\"-\",y,\"=\",resultado)\n",
        "\n",
        "def multiplicacion():\n",
        "    print('Has elegido Multiplicacion')\n",
        "    x = float(input(\"Ingrese el primer factor: \"))\n",
        "    y = float(input(\"Ingrese el segundo factor: \"))\n",
        "    resultado = x*y\n",
        "    print(x,\"x\",y,\"=\",resultado)\n",
        "\n",
        "def division():\n",
        "    print('Has elegido Division')\n",
        "    x = float(input(\"Ingrese el dividendo: \"))\n",
        "    y = float(input(\"Ingrese el divisor: \"))\n",
        "    resultado = x/y\n",
        "    if y == 0:\n",
        "      print(\"SyntaxError(El divisor no puede ser 0)\")\n",
        "    else:\n",
        "      print(x,\"/\",y,\"=\",resultado)\n",
        "\n",
        "def division_entera():\n",
        "    print('Has elegido Dion enteivisra')\n",
        "    x = float(input(\"Ingrese el dividendo: \"))\n",
        "    y = float(input(\"Ingrese el divisor: \"))\n",
        "    resultado = x//y\n",
        "    print(\"Division entera de: \", x,\"/\",y,\"=\",resultado)\n",
        "\n",
        "def exponente():\n",
        "    print('Has elegido Exponente')\n",
        "    x = float(input(\"Ingrese el numero base: \"))\n",
        "    y = float(input(\"Ingrese el exponente: \"))\n",
        "    resultado = x**y\n",
        "    print(x,\"^\",y,\"=\",resultado)\n",
        "\n",
        "def modulo():\n",
        "    print('Has elegido Modulo')\n",
        "    x = float(input(\"Ingrese el numero base: \"))\n",
        "    y = float(input(\"Ingrese el modulo: \"))\n",
        "    resultado = x%y\n",
        "    print(\"Modulo\", x, \"de\",y,\"=\",resultado)\n",
        "\n",
        "def salir():\n",
        "    print('Saliendo')\n",
        "\n",
        "\n",
        "if __name__ == '__main__':\n",
        "    menu_principal()\n"
      ],
      "metadata": {
        "colab": {
          "base_uri": "https://localhost:8080/"
        },
        "id": "_F2S8BFWdAjx",
        "outputId": "b6791d49-b7af-4809-c514-c0814a816edf"
      },
      "execution_count": 13,
      "outputs": [
        {
          "output_type": "stream",
          "name": "stdout",
          "text": [
            "Seleccione una opción:\n",
            " 1) Suma\n",
            " 2) Resta\n",
            " 3) Multiplicacion\n",
            " 4) Division\n",
            " 5) Division_entera\n",
            " 6) Exponente\n",
            " 7) Modulo\n",
            " 8) Salir\n",
            "Opción: 8\n",
            "Saliendo\n",
            "\n"
          ]
        }
      ]
    }
  ]
}