{
  "nbformat": 4,
  "nbformat_minor": 0,
  "metadata": {
    "colab": {
      "provenance": []
    },
    "kernelspec": {
      "name": "python3",
      "display_name": "Python 3"
    },
    "language_info": {
      "name": "python"
    }
  },
  "cells": [
    {
      "cell_type": "code",
      "execution_count": 1,
      "metadata": {
        "colab": {
          "base_uri": "https://localhost:8080/"
        },
        "id": "8O2EDTT_l19j",
        "outputId": "dcad402a-8263-4ea3-b42f-43efadc8c9ff"
      },
      "outputs": [
        {
          "output_type": "stream",
          "name": "stdout",
          "text": [
            "Ingresa un número para la tabla de multiplicar: 5\n",
            "Tabla de multiplicar del 5:\n",
            "5 x 0 = 0\n",
            "5 x 1 = 5\n",
            "5 x 2 = 10\n",
            "5 x 3 = 15\n",
            "5 x 4 = 20\n",
            "5 x 5 = 25\n",
            "5 x 6 = 30\n",
            "5 x 7 = 35\n",
            "5 x 8 = 40\n",
            "5 x 9 = 45\n",
            "5 x 10 = 50\n"
          ]
        }
      ],
      "source": [
        "#Ejercicio 8: Desarrollar un programa que muestre en pantalla, la tabla de multiplicar de\n",
        "#un numero cualquiera, este numero debera ser solicitado e ingresado desde\n",
        "#el teclado por el usuario..\n",
        "#Requerimientos indispensables:\n",
        "#• Utilizar el ciclo o bucle for.\n",
        "#• La Tabla debe contener las multiplicaciones que van desde el 0 hasta\n",
        "#el 10.\n",
        "\n",
        "numero = int(input(\"Ingresa un número para la tabla de multiplicar: \"))\n",
        "\n",
        "print(f\"Tabla de multiplicar del {numero}:\")\n",
        "for i in range(11):\n",
        "    resultado = numero * i\n",
        "    print(f\"{numero} x {i} = {resultado}\")"
      ]
    },
    {
      "cell_type": "code",
      "source": [
        "#Desarrollar un programa que solicite una frase desde el teclado, as´ı como un\n",
        "#caracter en especıfico, ya sea una letra, un numero o caracter especial.\n",
        "#Posteriormente, el programa debera imprimir en pantalla la frase ingresada\n",
        "#desde el teclado, “sin vocales”, y en caso de que el caracter en especıfico sea\n",
        "#parte de la frase, el bucle deber´a finalizar su ejecucion.\n",
        "#Requerimientos indispensables:\n",
        "#• Utilizar un ciclo o bucle, ya sea while o for.\n",
        "#• Considerar que el usuario puede ingresar vocales en mayusculas y/o\n",
        "#minusculas.\n",
        "\n",
        "frase = input(\"Ingresa una frase: \")\n",
        "caracter_especifico = input(\"Ingresa un carácter específico: \")\n",
        "\n",
        "frase = frase.lower()\n",
        "caracter_especifico = caracter_especifico.lower()\n",
        "\n",
        "frase_sin_vocales = \"\"\n",
        "\n",
        "for letra in frase:\n",
        "    if letra not in \"aeiou\":\n",
        "        frase_sin_vocales += letra\n",
        "    if letra == caracter_especifico:\n",
        "        break\n",
        "\n",
        "print(\"Frase sin vocales:\", frase_sin_vocales)"
      ],
      "metadata": {
        "colab": {
          "base_uri": "https://localhost:8080/"
        },
        "id": "TE26MH8cmc6S",
        "outputId": "18b65cf7-e647-4bfe-c73d-d178124b9fa5"
      },
      "execution_count": 4,
      "outputs": [
        {
          "output_type": "stream",
          "name": "stdout",
          "text": [
            "Ingresa una frase: Hola Soy Jhon Diaz\n",
            "Ingresa un carácter específico: e\n",
            "Frase sin vocales: hl sy jhn dz\n"
          ]
        }
      ]
    }
  ]
}