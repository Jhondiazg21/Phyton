{
  "nbformat": 4,
  "nbformat_minor": 0,
  "metadata": {
    "colab": {
      "provenance": []
    },
    "kernelspec": {
      "name": "python3",
      "display_name": "Python 3"
    },
    "language_info": {
      "name": "python"
    }
  },
  "cells": [
    {
      "cell_type": "code",
      "execution_count": 1,
      "metadata": {
        "colab": {
          "base_uri": "https://localhost:8080/"
        },
        "id": "gHU0EHghjfCJ",
        "outputId": "1fa91000-3686-4f6b-9b39-84564524bbd2"
      },
      "outputs": [
        {
          "output_type": "stream",
          "name": "stdout",
          "text": [
            "0 1 1 2 3 5 8 13 21 34 55 89 144 233 377 610 987 1597 "
          ]
        }
      ],
      "source": [
        "#Ejercicio 5 : Desarrollar un programa que imprima en pantalla la Sucesi´on de Fibonacci\n",
        "#desde el numero 0 hasta el numero 1597, de manera horizontal.\n",
        "\n",
        "a, b = 0, 1\n",
        "while a <= 1597:\n",
        "    print(a, end=\" \")\n",
        "    a, b = b, a + b"
      ]
    },
    {
      "cell_type": "code",
      "source": [
        "# Ejercicion 6: Desarrollar un programa que elimine una palabra que forma parte de una cadena de caracteres.\n",
        "#Requerimientos indispensables:\n",
        "#• La cadena de caracteres debera ser solicitada desde el teclado.\n",
        "#• La palabra a eliminar debera ser solicitada desde el teclado.\n",
        "\n",
        "cadena = input(\"Ingresa una cadena de caracteres: \")\n",
        "palabra_a_eliminar = input(\"Ingresa la palabra que deseas eliminar: \")\n",
        "\n",
        "\n",
        "if palabra_a_eliminar in cadena:\n",
        "    nueva_cadena = cadena.replace(palabra_a_eliminar, \"\")\n",
        "    print(\"La cadena resultante es:\", nueva_cadena)\n",
        "else:\n",
        "    print(\"La palabra no se encuentra en la cadena.\")"
      ],
      "metadata": {
        "colab": {
          "base_uri": "https://localhost:8080/"
        },
        "id": "xByzxxoEj-L3",
        "outputId": "99184b99-bf43-41e0-ebff-a702aff02379"
      },
      "execution_count": 4,
      "outputs": [
        {
          "output_type": "stream",
          "name": "stdout",
          "text": [
            "Ingresa una cadena de caracteres: Hola soy Jhon Diaz\n",
            "Ingresa la palabra que deseas eliminar: Diaz\n",
            "La cadena resultante es: Hola soy Jhon \n"
          ]
        }
      ]
    },
    {
      "cell_type": "code",
      "source": [
        "#Ejercicio 7: Desarrollar un programa que invierta una cadena de caracteres, y a su vez,\n",
        "#esta cadena de caracteres debera ser ingresada por el usuario desde el teclado.\n",
        "#Requerimientos indispensables:\n",
        "#• No se permite modificar la cadena de caracteres original.\n",
        "#• Utilizar el ciclo o bucle for.\n",
        "\n",
        "cadena = input(\"Ingresa una cadena de caracteres: \")\n",
        "\n",
        "cadena_invertida = \"\"\n",
        "\n",
        "\n",
        "for caracter in cadena:\n",
        "    cadena_invertida = caracter + cadena_invertida\n",
        "\n",
        "print(\"La cadena invertida es:\", cadena_invertida)"
      ],
      "metadata": {
        "colab": {
          "base_uri": "https://localhost:8080/"
        },
        "id": "jidwNTZgkbvb",
        "outputId": "95f201c4-299f-497a-8653-33c501b084a5"
      },
      "execution_count": 6,
      "outputs": [
        {
          "output_type": "stream",
          "name": "stdout",
          "text": [
            "Ingresa una cadena de caracteres: Hola soy jhon diaz\n",
            "La cadena invertida es: zaid nohj yos aloH\n"
          ]
        }
      ]
    }
  ]
}