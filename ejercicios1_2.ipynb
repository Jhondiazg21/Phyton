{
  "nbformat": 4,
  "nbformat_minor": 0,
  "metadata": {
    "colab": {
      "provenance": []
    },
    "kernelspec": {
      "name": "python3",
      "display_name": "Python 3"
    },
    "language_info": {
      "name": "python"
    }
  },
  "cells": [
    {
      "cell_type": "code",
      "execution_count": null,
      "metadata": {
        "id": "nM2MlOyjuBhn"
      },
      "outputs": [],
      "source": [
        "#Ejercicio 1\n",
        "\n",
        "nombre = input(\"Ingrese su nombre: \")\n",
        "clave = int(input(\"Ingrese la clave de su departamento: \"))\n",
        "antiguedad = int(input(\"ingrese su antiguedad en años: \"))\n",
        "vacaciones = 0\n",
        "\n",
        "match clave:\n",
        "  case 1:\n",
        "    if antiguedad == 1:\n",
        "      vacaciones = 6\n",
        "    elif antiguedad >= 2 and antiguedad <= 6:\n",
        "      vacaciones = 14\n",
        "    elif antiguedad > 6:\n",
        "      vacaciones = 20\n",
        "    else:\n",
        "      print(\"Aun no tienes vacaciones :(\")\n",
        "\n",
        "  case 2:\n",
        "    if antiguedad == 1:\n",
        "      vacaciones = 7\n",
        "    elif antiguedad >= 2 and antiguedad <= 6:\n",
        "      vacaciones = 15\n",
        "    elif antiguedad > 6:\n",
        "      vacaciones = 22\n",
        "    else:\n",
        "      print(\"Aun no tienes vacaciones :(\")\n",
        "\n",
        "  case 3:\n",
        "    if antiguedad == 1:\n",
        "      vacaciones = 10\n",
        "    elif antiguedad >= 2 and antiguedad <= 6:\n",
        "      vacaciones = 20\n",
        "    elif antiguedad > 6:\n",
        "      vacaciones = 30\n",
        "    else:\n",
        "      print(\"Aun no tienes vacaciones :(\")\n",
        "  case _:\n",
        "    print(\"La clave ingresada no corresponde a ningun departamento\")\n",
        "\n",
        "if vacaciones > 0:\n",
        "  print(\"el numero de dias de vacaciones es de: \", vacaciones)\n",
        "\n",
        "\n",
        "\n"
      ]
    },
    {
      "cell_type": "code",
      "source": [
        "#Ejercicio 2\n",
        "\n",
        "num = int(input(\"ingrese el numero: \"))\n",
        "\n",
        "if ((num % 2) == 0):\n",
        "  print(\"El numero es par\")\n",
        "else:\n",
        "  print(\"El numero es impar\")"
      ],
      "metadata": {
        "colab": {
          "base_uri": "https://localhost:8080/"
        },
        "id": "PuA3ZdpB0bTE",
        "outputId": "3209e153-0656-463d-8f20-e705ce106ed1"
      },
      "execution_count": 7,
      "outputs": [
        {
          "output_type": "stream",
          "name": "stdout",
          "text": [
            "ingrese el numero: 8\n",
            "El numero es par\n"
          ]
        }
      ]
    }
  ]
}